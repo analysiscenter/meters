{
 "cells": [
  {
   "cell_type": "code",
   "execution_count": 1,
   "metadata": {},
   "outputs": [],
   "source": [
    "import pandas as pd\n",
    "import numpy as np\n",
    "import matplotlib.pyplot as plt\n",
    "from tqdm import tqdm_notebook as tqn\n",
    "%matplotlib inline\n",
    "import sys\n",
    "sys.path.append('..')\n",
    "from meters.batch import MeterBatch\n",
    "from meters.pipelines import PipelineFactory\n",
    "from meters.dataset import Dataset, FilesIndex\n",
    "import meters as ms\n",
    "from meters.batch import MeterBatch\n",
    "from meters.dataset import B,V,F, FilesIndex, Dataset, Pipeline\n",
    "from meters.dataset.dataset.models.tf import ResNet101, DenseNet121, VGG19, MobileNet_v2, TFModel"
   ]
  },
  {
   "cell_type": "code",
   "execution_count": 2,
   "metadata": {},
   "outputs": [],
   "source": [
    "src = './../data/augment_data/images/'\n",
    "fileindex = FilesIndex(path=src + '*.png', no_ext=True)\n",
    "dset = Dataset(fileindex, batch_class=MeterBatch)\n",
    "dset.cv_split()"
   ]
  },
  {
   "cell_type": "markdown",
   "metadata": {},
   "source": [
    "# simple pred bb"
   ]
  },
  {
   "cell_type": "code",
   "execution_count": 3,
   "metadata": {},
   "outputs": [],
   "source": [
    "pf = PipelineFactory()\n",
    "src = '.'\n",
    "batch_size = 10\n",
    "\n",
    "config = {'model': MobileNet_v2,\n",
    "          'model_name': 'model',\n",
    "          'batch_size': batch_size, \n",
    "}\n",
    "\n",
    "import tensorflow as tf\n",
    "session_config = tf.ConfigProto()\n",
    "session_config.gpu_options.allow_growth = True\n",
    "\n",
    "model_config = {\n",
    "     'session' : {'config' : session_config},\n",
    "     'body': {'width_factor' : 1},\n",
    "     'inputs' : {'images': {'shape': B('image_shape'),\n",
    "                            'data_format': 'channels_last'},\n",
    "                 'labels': {'name': 'targets', 'shape' : (4,)}},\n",
    "     'loss' : {'name' : 'huber', 'delta' : 1},\n",
    "     'decay' : {'name':\"exp\", \"decay_rate\" : 0.95, 'learning_rate' : 1.,\\\n",
    "                \"decay_steps\" : 10, 'staircase' : True},\n",
    "     'optimizer': {'name' : 'Momentum', 'momentum' : 0.99, 'use_nesterov' : True},\n",
    "     'input_block/inputs' : 'images'}"
   ]
  },
  {
   "cell_type": "code",
   "execution_count": 4,
   "metadata": {},
   "outputs": [],
   "source": [
    "ppl = pf.simple_predict_bb('model', './mobilenet_v2/', src='./../data/augment_data/', ppl_config=config)"
   ]
  },
  {
   "cell_type": "code",
   "execution_count": 5,
   "metadata": {
    "scrolled": false
   },
   "outputs": [
    {
     "name": "stderr",
     "output_type": "stream",
     "text": [
      "Widget Javascript not detected.  It may not be installed or enabled properly.\n"
     ]
    },
    {
     "data": {
      "application/vnd.jupyter.widget-view+json": {
       "model_id": "39e2d7a94ae94b05ac0f06a39a78a5b5"
      }
     },
     "metadata": {},
     "output_type": "display_data"
    },
    {
     "name": "stdout",
     "output_type": "stream",
     "text": [
      "INFO:tensorflow:Restoring parameters from ./mobilenet_v2/model-45950\n",
      "\n"
     ]
    }
   ],
   "source": [
    "ppl_pred_new = dset.train>>ppl\n",
    "for i in tqn(range(100)):\n",
    "    batch = ppl_pred_new.next_batch()\n",
    "#     print(batch.labels)\n",
    "#     plt.imshow(batch.images[0])\n",
    "#     plt.show()"
   ]
  },
  {
   "cell_type": "markdown",
   "metadata": {},
   "source": [
    "# simple train bb"
   ]
  },
  {
   "cell_type": "code",
   "execution_count": 6,
   "metadata": {
    "collapsed": true,
    "scrolled": true
   },
   "outputs": [],
   "source": [
    "ppl = pf.simple_train_bb('./../data/augment_data/', ppl_config=config, model_config=model_config)"
   ]
  },
  {
   "cell_type": "code",
   "execution_count": 7,
   "metadata": {
    "scrolled": true
   },
   "outputs": [
    {
     "name": "stderr",
     "output_type": "stream",
     "text": [
      "Widget Javascript not detected.  It may not be installed or enabled properly.\n"
     ]
    },
    {
     "data": {
      "application/vnd.jupyter.widget-view+json": {
       "model_id": "4d662809a35048f48517feaeb1ae6f1c"
      }
     },
     "metadata": {},
     "output_type": "display_data"
    },
    {
     "name": "stdout",
     "output_type": "stream",
     "text": [
      "\n"
     ]
    },
    {
     "data": {
      "text/plain": [
       "[<matplotlib.lines.Line2D at 0x7f4bdc744cc0>]"
      ]
     },
     "execution_count": 7,
     "metadata": {},
     "output_type": "execute_result"
    },
    {
     "data": {
      "image/png": "[encoded data removed]",
      "text/plain": [
       "<matplotlib.figure.Figure at 0x7f4c342d3128>"
      ]
     },
     "metadata": {},
     "output_type": "display_data"
    }
   ],
   "source": [
    "ppl_new = dset.train>>ppl\n",
    "for i in tqn(range(100)):\n",
    "    batch = ppl_new.next_batch()\n",
    "plt.plot(ppl_new.get_variable('current_loss'))"
   ]
  },
  {
   "cell_type": "markdown",
   "metadata": {},
   "source": [
    "# train digits on predicted bb"
   ]
  },
  {
   "cell_type": "code",
   "execution_count": 4,
   "metadata": {
    "collapsed": true
   },
   "outputs": [],
   "source": [
    "pf = PipelineFactory()\n",
    "src = './../data/augment_data/'\n",
    "images_src = './../data/outcomes_data/images/'\n",
    "config = {\n",
    "    'bbox_comp': 'coordinates',\n",
    "    'model': VGG19,\n",
    "    'model_name': VGG19,\n",
    "    'batch_size': 5\n",
    "}\n",
    "ppl = pf.train_on_pred_bb(src, images_src, 'model', './mobilenet_v2/', (64, 32), ppl_config=config)"
   ]
  },
  {
   "cell_type": "code",
   "execution_count": 9,
   "metadata": {},
   "outputs": [
    {
     "data": {
      "application/vnd.jupyter.widget-view+json": {
       "model_id": "5729f568d9b6456cb6900433a45af4b1"
      }
     },
     "metadata": {},
     "output_type": "display_data"
    },
    {
     "name": "stdout",
     "output_type": "stream",
     "text": [
      "INFO:tensorflow:Restoring parameters from ./mobilenet_v2/model-45950\n",
      "\n"
     ]
    },
    {
     "data": {
      "text/plain": [
       "[<matplotlib.lines.Line2D at 0x7f4b2b1dbb70>]"
      ]
     },
     "execution_count": 9,
     "metadata": {},
     "output_type": "execute_result"
    },
    {
     "data": {
      "image/png": "[encoded data removed]",
      "text/plain": [
       "<matplotlib.figure.Figure at 0x7f4c342a4b38>"
      ]
     },
     "metadata": {},
     "output_type": "display_data"
    }
   ],
   "source": [
    "ppl_new = dset.train>>ppl\n",
    "for i in tqn(range(100)):\n",
    "    batch = ppl_new.next_batch()\n",
    "plt.plot(ppl_new.get_variable('current_loss'))"
   ]
  },
  {
   "cell_type": "markdown",
   "metadata": {},
   "source": [
    "# train on digits"
   ]
  },
  {
   "cell_type": "code",
   "execution_count": 5,
   "metadata": {},
   "outputs": [],
   "source": [
    "train_ppl = pf.simple_train(src='./../data/outcomes_data/', \n",
    "                            shape=(64,32),\n",
    "                            ppl_config={'model': VGG19,\n",
    "                                        'model_name': 'digits',\n",
    "                                        'batch_size': 1,\n",
    "                                        'n_epochs': None})"
   ]
  },
  {
   "cell_type": "code",
   "execution_count": 10,
   "metadata": {
    "scrolled": false
   },
   "outputs": [
    {
     "name": "stderr",
     "output_type": "stream",
     "text": [
      "Widget Javascript not detected.  It may not be installed or enabled properly.\n"
     ]
    },
    {
     "data": {
      "application/vnd.jupyter.widget-view+json": {
       "model_id": "de92c855d9dd4922a83c6e04cbf6b51a"
      }
     },
     "metadata": {},
     "output_type": "display_data"
    },
    {
     "name": "stdout",
     "output_type": "stream",
     "text": [
      "\n"
     ]
    },
    {
     "data": {
      "text/plain": [
       "[<matplotlib.lines.Line2D at 0x7f720f751048>]"
      ]
     },
     "execution_count": 10,
     "metadata": {},
     "output_type": "execute_result"
    },
    {
     "data": {
      "image/png": "[encoded data removed]",
      "text/plain": [
       "<matplotlib.figure.Figure at 0x7f7226f99cf8>"
      ]
     },
     "metadata": {},
     "output_type": "display_data"
    }
   ],
   "source": [
    "ppl_new = dset.train>>train_ppl\n",
    "for i in tqn(range(100)):\n",
    "    batch = ppl_new.next_batch()\n",
    "plt.plot(ppl_new.get_variable('current_loss'))"
   ]
  },
  {
   "cell_type": "markdown",
   "metadata": {},
   "source": [
    "# pred on digits"
   ]
  },
  {
   "cell_type": "code",
   "execution_count": 7,
   "metadata": {},
   "outputs": [],
   "source": [
    "pred_ppl = pf.simple_predict('digits', ppl_new, shape=(64, 32), src='./../data/outcomes_data/')"
   ]
  },
  {
   "cell_type": "code",
   "execution_count": 8,
   "metadata": {},
   "outputs": [],
   "source": [
    "ppl_new = dset.train>>pred_ppl\n",
    "batch = ppl_new.next_batch()"
   ]
  },
  {
   "cell_type": "code",
   "execution_count": 10,
   "metadata": {},
   "outputs": [
    {
     "data": {
      "text/plain": [
       "([array([[1., 0., 0., 0., 0., 0., 0., 0., 0., 0.],\n",
       "         [1., 0., 0., 0., 0., 0., 0., 0., 0., 0.],\n",
       "         [0., 1., 0., 0., 0., 0., 0., 0., 0., 0.],\n",
       "         [0., 1., 0., 0., 0., 0., 0., 0., 0., 0.],\n",
       "         [0., 0., 0., 0., 0., 0., 0., 0., 0., 1.],\n",
       "         [1., 0., 0., 0., 0., 0., 0., 0., 0., 0.],\n",
       "         [0., 0., 0., 0., 0., 1., 0., 0., 0., 0.],\n",
       "         [0., 0., 0., 0., 0., 1., 0., 0., 0., 0.]], dtype=float32)],\n",
       " array([0, 0, 1, 1, 9, 0, 5, 5]))"
      ]
     },
     "execution_count": 10,
     "metadata": {},
     "output_type": "execute_result"
    }
   ],
   "source": [
    "ppl_new.get_variable('digits_prediction'), batch.labels"
   ]
  },
  {
   "cell_type": "markdown",
   "metadata": {},
   "source": [
    "# pred digits on pred bb"
   ]
  },
  {
   "cell_type": "code",
   "execution_count": 9,
   "metadata": {},
   "outputs": [],
   "source": [
    "ppl = pf.simple_predict_numbers('model', './mobilenet_v2/', 'digits', ppl_new, src='./../data/augment_data/', \n",
    "                                images_src='./../data/outcomes_data/images/', ppl_config_digits = {})"
   ]
  },
  {
   "cell_type": "code",
   "execution_count": 10,
   "metadata": {
    "scrolled": false
   },
   "outputs": [
    {
     "name": "stdout",
     "output_type": "stream",
     "text": [
      "INFO:tensorflow:Restoring parameters from ./mobilenet_v2/model-45950\n"
     ]
    }
   ],
   "source": [
    "ppl_new = dset.train>>ppl\n",
    "batch = ppl_new.next_batch()"
   ]
  },
  {
   "cell_type": "code",
   "execution_count": 11,
   "metadata": {},
   "outputs": [
    {
     "data": {
      "text/plain": [
       "([array([[1., 0., 0., 0., 0., 0., 0., 0., 0., 0.],\n",
       "         [1., 0., 0., 0., 0., 0., 0., 0., 0., 0.],\n",
       "         [1., 0., 0., 0., 0., 0., 0., 0., 0., 0.],\n",
       "         [1., 0., 0., 0., 0., 0., 0., 0., 0., 0.],\n",
       "         [0., 0., 1., 0., 0., 0., 0., 0., 0., 0.],\n",
       "         [0., 0., 0., 0., 0., 1., 0., 0., 0., 0.],\n",
       "         [0., 1., 0., 0., 0., 0., 0., 0., 0., 0.],\n",
       "         [0., 0., 0., 0., 1., 0., 0., 0., 0., 0.]], dtype=float32)],\n",
       " array([0, 0, 0, 0, 2, 5, 1, 4]))"
      ]
     },
     "execution_count": 11,
     "metadata": {},
     "output_type": "execute_result"
    }
   ],
   "source": [
    "ppl_new.get_variable('digits_prediction'), batch.labels"
   ]
  }
 ],
 "metadata": {
  "kernelspec": {
   "display_name": "Python 3",
   "language": "python",
   "name": "python3"
  },
  "language_info": {
   "codemirror_mode": {
    "name": "ipython",
    "version": 3
   },
   "file_extension": ".py",
   "mimetype": "text/x-python",
   "name": "python",
   "nbconvert_exporter": "python",
   "pygments_lexer": "ipython3",
   "version": "3.5.2"
  }
 },
 "nbformat": 4,
 "nbformat_minor": 2
}
