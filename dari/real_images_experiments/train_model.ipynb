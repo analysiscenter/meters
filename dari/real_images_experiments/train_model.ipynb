{
 "cells": [
  {
   "cell_type": "code",
   "execution_count": 1,
   "metadata": {},
   "outputs": [
    {
     "name": "stdout",
     "output_type": "stream",
     "text": [
      "env: CUDA_VISIBLE_DEVICES=0\n"
     ]
    }
   ],
   "source": [
    "%env CUDA_VISIBLE_DEVICES=0"
   ]
  },
  {
   "cell_type": "code",
   "execution_count": 2,
   "metadata": {},
   "outputs": [
    {
     "name": "stdout",
     "output_type": "stream",
     "text": [
      "Unable to determine the device handle for GPU 0000:01:00.0: GPU is lost.  Reboot the system to recover this GPU\n",
      "\n",
      "\n"
     ]
    }
   ],
   "source": [
    "!nvidia-smi"
   ]
  },
  {
   "cell_type": "code",
   "execution_count": 3,
   "metadata": {
    "collapsed": true
   },
   "outputs": [],
   "source": [
    "import sys\n",
    "import os\n",
    "\n",
    "import numpy as np\n",
    "import tensorflow as tf\n",
    "import matplotlib.pyplot as plt\n",
    "import matplotlib.patches as patches\n",
    "\n",
    "from tqdm import tqdm as tqn\n",
    "%matplotlib inline\n",
    "\n",
    "sys.path.append('..//..')\n",
    "\n",
    "import meters as ms\n",
    "from meters.batch import MeterBatch\n",
    "# from meter_batch import MeterBatch\n",
    "from meters.batch.meter_batch import load_func\n",
    "\n",
    "from meters.dataset import B,V,F,R,P, FilesIndex, Dataset, Pipeline\n",
    "from meters.dataset.dataset.models.tf import ResNet18, DenseNet121, VGG19\n",
    "# from detection_model import NearestDetection, ClassificationModel\n",
    "\n",
    "plt.style.use('seaborn-poster')\n",
    "plt.style.use('ggplot')"
   ]
  },
  {
   "cell_type": "code",
   "execution_count": 4,
   "metadata": {
    "collapsed": true
   },
   "outputs": [],
   "source": [
    "# pylint: disable=attribute-defined-outside-init\n",
    "\"\"\"Batch class for water meter task\"\"\"\n",
    "import copy\n",
    "import numpy as np\n",
    "import tensorflow as tf\n",
    "from scipy.special import expit\n",
    "from scipy.misc import imresize\n",
    "import matplotlib.pyplot as plt\n",
    "# import sys\n",
    "# sys.path.append('..//..//meters/')\n",
    "from meters.dataset import ImagesBatch, action, inbatch_parallel, any_action_failed, DatasetIndex"
   ]
  },
  {
   "cell_type": "code",
   "execution_count": 5,
   "metadata": {
    "collapsed": true
   },
   "outputs": [],
   "source": [
    "src_image = 'seen_images/'\n",
    "src_data = 'new_data.csv'\n",
    "\n",
    "fileindex = FilesIndex(path=src_image+'*.jpg', no_ext=True)\n",
    "\n",
    "dset = Dataset(fileindex, batch_class=MeterBatch)\n",
    "dset.cv_split()"
   ]
  },
  {
   "cell_type": "code",
   "execution_count": 6,
   "metadata": {
    "collapsed": true
   },
   "outputs": [],
   "source": [
    "BATCH_SIZE = 25\n",
    "NUM_DIGITS = 8\n",
    "HEIGHT = 32\n",
    "WIDTH = 16\n",
    "VERTICALE_SCALE = 2.5\n",
    "HORIZONTAL_SCALE = 2\n",
    "NEW_SIZE = (int(VERTICALE_SCALE * HEIGHT), 192, 3)"
   ]
  },
  {
   "cell_type": "code",
   "execution_count": 7,
   "metadata": {
    "collapsed": true
   },
   "outputs": [],
   "source": [
    "NEW_SIZE = (112, 288, 3)"
   ]
  },
  {
   "cell_type": "code",
   "execution_count": 8,
   "metadata": {
    "collapsed": true
   },
   "outputs": [],
   "source": [
    "def factor_sampler(size, p_square = 0.5):\n",
    "    if np.random.binomial(1, p_square):\n",
    "        return np.random.uniform(0.3, 1.7, (size,))\n",
    "    return np.random.uniform(0.3, 1.7, (size,2))\n",
    "\n",
    "def shift_sampler(size):\n",
    "    return np.hstack((np.random.uniform(-60, 60, (size, 1)),\\\n",
    "                      np.random.uniform(-15, 10, (size, 1)),\\\n",
    "                      np.zeros((size, 1))))\n",
    "\n",
    "def shape_sampler(size, crop_size=1):\n",
    "    return np.random.randint(20, 50, (size, crop_size, 2))\n",
    "\n",
    "def color_sampler(size, crop_size=1):\n",
    "    return np.random.uniform(0, 1, (size, crop_size, 3))\n",
    "\n",
    "def background_sampler(size, shape=(120, 120, 3), p_solid = 0.5):\n",
    "    if np.random.binomial(1, p_solid):\n",
    "        return np.ones((size, 120,120, 3))*color_sampler(size)[:, np.newaxis,...]\n",
    "    return np.random.uniform(0, 1, (size,) + shape)\n",
    "\n",
    "def random_origin_sampler(size, max_=3):\n",
    "    return [['random'] * np.random.randint(0, max_) for _ in range(size)]\n",
    "channels = np.array((0, 1, 2, (0, 1), (0, 2), (1, 2), (0, 1, 2)), dtype=object)\n",
    "def channels_sampler(size):\n",
    "    return channels[np.random.randint(len(channels), size=size)]\n",
    "\n",
    "mode_generator=lambda size: np.random.choice(['constant', 'nearest', 'wrap'], size)"
   ]
  },
  {
   "cell_type": "code",
   "execution_count": 9,
   "metadata": {
    "collapsed": true
   },
   "outputs": [],
   "source": [
    "load_ppl = (\n",
    "    Pipeline()\n",
    "    .load_pil(src=src_image, components='images')\n",
    "    .load(src=src_data, fmt='csv', components=['coordinates', 'labels'],\n",
    "                  post=load_func, index_col='file_name')\n",
    "    .generate_digit_cordinates()\n",
    "    .enlarge_coordinates()\n",
    "    .crop_from_bbox(dst='images')\n",
    "    .update_digit_coordinates()\n",
    "    .shuffle_digits(p=0.5,\n",
    "                    src=['images', 'digit_coordinates', 'labels'], \n",
    "                    dst=['images', 'digit_coordinates', 'labels'])\n",
    "    .skip_digits()\n",
    "    .assign_confidence()\n",
    "    .normalize_coordinates(image_src='images')\n",
    "    .one_hot()\n",
    "    .multiply(multiplier=1/255., preserve_type=False, \n",
    "              src='images',\n",
    "              dst='new_images')\n",
    "     .salt(size=lambda: np.random.randint(1, 10, 2),\n",
    "           color=lambda: np.random.uniform(0, 1, 3),\n",
    "           p_noise=P(R('uniform', 0.005, 0.01)), p=0.1, \n",
    "           src='new_images',\n",
    "           dst='new_images')\n",
    "     .posterize(colors_number=R('randint',8,254), p=0.5,\n",
    "               src='new_images',\n",
    "               dst='new_images')\n",
    "     .invert(channels=P(R(channels_sampler)), p=0.3,\n",
    "             src='new_images',\n",
    "             dst='new_images')\n",
    "     .multiplicative_noise(noise=lambda size: np.random.uniform(0.9, 1.1,size=size), p=0.9,\n",
    "                           src='new_images',\n",
    "                           dst='new_images')\n",
    "    .additive_noise(noise=lambda size: np.random.normal(0, 0.01,size=size), p=0.9,\n",
    "                    src='new_images',\n",
    "                    dst='new_images')\n",
    "    .gaussian_filter(sigma=P(R('uniform', 0.01, 1)), p=0.9,\n",
    "                     src='new_images',\n",
    "                     dst='new_images')\n",
    "    .hommography_transform(p=0.7,\n",
    "                     src=['new_images', 'digit_coordinates', 'labels'],\n",
    "                     dst=['new_images', 'digit_coordinates', 'labels'])\n",
    "    .resize((112, 288),  order=1, preserve_range=False, mode='symmetric',\n",
    "                                    src='new_images', dst='new_images')\n",
    "\n",
    "#     .dump(dst='./augmented_images/', fmt='blosc', mode='a', components='new_images')\n",
    "#     .dump(dst='./confidence.csv', fmt='csv', mode='a', components='confidence')\n",
    "#     .dump(dst='./coordinates.csv', fmt='csv', mode='a', components='coordinates')\n",
    "#     << dset\n",
    ")\n",
    " "
   ]
  },
  {
   "cell_type": "code",
   "execution_count": 10,
   "metadata": {
    "collapsed": true
   },
   "outputs": [],
   "source": [
    "def smooth_l1(labels, predictions, mu=0.02, scope=None, num_digits = 8, *args, **kwargs):\n",
    "    losses = 0\n",
    "    for digit in range(num_digits):\n",
    "        error = predictions[:, digit, :] - labels[:, digit, :]\n",
    "        abs_error = tf.abs(error)\n",
    "        quadratic = tf.minimum(mu, abs_error)\n",
    "        losses += quadratic ** 2 / (2 * mu) + abs_error - quadratic\n",
    "    return tf.reduce_mean(losses)"
   ]
  },
  {
   "cell_type": "code",
   "execution_count": 11,
   "metadata": {
    "collapsed": true
   },
   "outputs": [],
   "source": [
    "def conf_mse(targets, predictions):\n",
    "    predictions = tf.reshape(predictions, tf.shape(targets))\n",
    "\n",
    "    ct = tf.reshape(targets[:, :, 0], (-1, 1))\n",
    "    cp = tf.reshape(predictions[:, :, 0], (-1, 1))\n",
    "\n",
    "    bt = tf.reshape(targets[:, :, 1:], (-1, 4))\n",
    "    bp = tf.nn.softplus(tf.reshape(predictions[:, :, 1:], (-1, 4)))\n",
    "    \n",
    "    cl = tf.losses.sigmoid_cross_entropy(ct, cp)\n",
    "    w = tf.maximum(ct, tf.sigmoid(cp))\n",
    "    \n",
    "    m = tf.losses.mean_squared_error(bt, bp, weights=w)\n",
    "\n",
    "    return 0."
   ]
  },
  {
   "cell_type": "code",
   "execution_count": 12,
   "metadata": {},
   "outputs": [
    {
     "data": {
      "text/plain": [
       "(112, 288, 3)"
      ]
     },
     "execution_count": 12,
     "metadata": {},
     "output_type": "execute_result"
    }
   ],
   "source": [
    "NEW_SIZE"
   ]
  },
  {
   "cell_type": "code",
   "execution_count": 13,
   "metadata": {
    "collapsed": true
   },
   "outputs": [],
   "source": [
    "placeholders_config = {'images': {'shape': NEW_SIZE,\n",
    "                                  'name': 'reshaped_images'},\n",
    "                       'bbox': {'shape': (NUM_DIGITS, 5), 'name': 'targets'},\n",
    "#                        'coordinates': {'shape': (NUM_DIGITS, 4), 'name': 'targets'},\n",
    "#                        'confidence': {'shape': (NUM_DIGITS, 1)}\n",
    "                      }\n",
    "                       \n",
    "config={'inputs': placeholders_config,\n",
    "        'input_block/inputs': 'images',\n",
    "        'loss': conf_mse,\n",
    "#         'num_digits': NUM_DIGITS,\n",
    "#         'output': dict(ops=['labels', 'proba', 'accuracy'])\n",
    "}\n",
    "\n",
    "\n",
    "saved_fetches=[V('loss'),\n",
    "#                V('outputs'),\n",
    "               B('predicted_bb'),\n",
    "#                V('mse'),\n",
    "#                V('ce_loss')\n",
    "              ]\n",
    "\n",
    "fetches_list=['loss',\n",
    "              'NearestDetection/all_predictions',\n",
    "#               'NearestDetection/mse',\n",
    "#               'NearestDetection/ce_loss'\n",
    "             ]\n",
    "\n",
    "saved_feed_dict={'images': B('new_images'),\n",
    "#                  'labels': B('labels'),\n",
    "#                  'coordinates': B('coordinates'),\n",
    "#                  'confidence': B('confidence'),\n",
    "#                  'outputs': \n",
    "                }\n",
    "#         'optimizer':  {'name': 'Momentum', 'momentum': 0.5, 'learning_rate': 0.1}}"
   ]
  },
  {
   "cell_type": "code",
   "execution_count": 14,
   "metadata": {
    "collapsed": true
   },
   "outputs": [],
   "source": [
    "class MyModel(ResNet18):\n",
    "    def build_config(self, names=None):\n",
    "        config = super().build_config(names)\n",
    "        config['head']['units'] = 5 * NUM_DIGITS\n",
    "        return config\n",
    "    \n",
    "    def head(self, inputs, **kwargs):\n",
    "        x = super().head(inputs, **kwargs)\n",
    "        return x"
   ]
  },
  {
   "cell_type": "code",
   "execution_count": 15,
   "metadata": {
    "collapsed": true
   },
   "outputs": [],
   "source": [
    "model = MyModel\n",
    "name = 'MyModel'"
   ]
  },
  {
   "cell_type": "code",
   "execution_count": 16,
   "metadata": {
    "collapsed": true
   },
   "outputs": [],
   "source": [
    "train_ppl = (\n",
    "    (load_ppl << dset.train)\n",
    "    .init_variable('model', model)\n",
    "    .init_variable('loss_history', init_on_each_run=list)\n",
    "    .init_variable('current_loss', init_on_each_run=list)\n",
    "    .init_variable('p_bbox', None)\n",
    "#     .init_variable('mse', init_on_each_run=list)\n",
    "#     .init_variable('ce_loss', init_on_each_run=list)\n",
    "#     .init_variable('outputs', init_on_each_run=list)\n",
    "    .init_model('dynamic',\n",
    "                V('model'),\n",
    "                name,\n",
    "                config=config)\n",
    "    .train_model('MyModel', fetches=['loss', 'predictions'], feed_dict={'images': B('new_images'), 'bbox': B('target')},\n",
    "                 save_to=[V('current_loss'), V('p_bbox')])\n",
    "    #.print(V('current_loss'))\n",
    "    .update_variable('loss_history', V('current_loss'), mode='a')\n",
    ")\n",
    "\n",
    "\n",
    "test_ppl = (\n",
    "    (load_ppl << dset.test)\n",
    "    .init_variable('loss_history', init_on_each_run=list)\n",
    "    .init_variable('p_bbox', None)\n",
    "    .init_variable('current_loss', init_on_each_run=list)\n",
    "#     .init_variable('mse', init_on_each_run=list)\n",
    "#     .init_variable('ce_loss', init_on_each_run=list)\n",
    "#     .init_variable('proba', init_on_each_run=list)\n",
    "#     .init_variable('target', init_on_each_run=list)\n",
    "#     .init_variable('accuracy', init_on_each_run=list)\n",
    "    .import_model(name, train_ppl)\n",
    "    .predict_model('MyModel', fetches=['loss', 'predictions'], feed_dict={'images': B('new_images'), 'bbox': B('target')},\n",
    "                 save_to=[V('current_loss'), V('p_bbox')])\n",
    "     .update_variable('loss_history', V('current_loss'), mode='a')\n",
    ")"
   ]
  },
  {
   "cell_type": "code",
   "execution_count": 17,
   "metadata": {
    "collapsed": true
   },
   "outputs": [],
   "source": [
    "NUM_ITERS = 5"
   ]
  },
  {
   "cell_type": "code",
   "execution_count": 18,
   "metadata": {},
   "outputs": [
    {
     "data": {
      "text/plain": [
       "(2, 8, 1)"
      ]
     },
     "execution_count": 18,
     "metadata": {},
     "output_type": "execute_result"
    }
   ],
   "source": [
    "np.expand_dims(np.zeros((2, 8)), axis=2).shape"
   ]
  },
  {
   "cell_type": "code",
   "execution_count": null,
   "metadata": {},
   "outputs": [
    {
     "name": "stderr",
     "output_type": "stream",
     "text": [
      "  0%|                                                                                            | 0/5 [00:00<?, ?it/s]C:\\Users\\Dari\\Anaconda3\\lib\\site-packages\\scipy\\misc\\pilutil.py:482: FutureWarning: Conversion of the second argument of issubdtype from `int` to `np.signedinteger` is deprecated. In future, it will be treated as `np.int32 == np.dtype(int).type`.\n",
      "  if issubdtype(ts, int):\n",
      "C:\\Users\\Dari\\Anaconda3\\lib\\site-packages\\scipy\\misc\\pilutil.py:485: FutureWarning: Conversion of the second argument of issubdtype from `float` to `np.floating` is deprecated. In future, it will be treated as `np.float64 == np.dtype(float).type`.\n",
      "  elif issubdtype(type(size), float):\n"
     ]
    },
    {
     "name": "stdout",
     "output_type": "stream",
     "text": [
      "INFO:tensorflow:logits.dtype=<dtype: 'float32'>.\n",
      "INFO:tensorflow:multi_class_labels.dtype=<dtype: 'float32'>.\n",
      "INFO:tensorflow:losses.dtype=<dtype: 'float32'>.\n"
     ]
    },
    {
     "name": "stderr",
     "output_type": "stream",
     "text": [
      " 80%|███████████████████████████████████████████████████████████████████▏                | 4/5 [02:27<00:37, 37.18s/it]"
     ]
    }
   ],
   "source": [
    "global_acc = []\n",
    "for i in tqn(range(NUM_ITERS)):\n",
    "    tr = train_ppl.next_batch(BATCH_SIZE, n_epochs=None, suffle=True, drop_last=True)\n",
    "    te = test_ppl.next_batch(BATCH_SIZE, n_epochs=None, suffle=True, drop_last=True)"
   ]
  },
  {
   "cell_type": "code",
   "execution_count": 19,
   "metadata": {
    "collapsed": true
   },
   "outputs": [],
   "source": [
    "predictions = np.array(test_ppl.get_variable('p_bbox')).reshape((25, 8, 5))"
   ]
  },
  {
   "cell_type": "code",
   "execution_count": 20,
   "metadata": {
    "collapsed": true
   },
   "outputs": [],
   "source": [
    "bboxes = predictions[:, :, 1:]"
   ]
  },
  {
   "cell_type": "code",
   "execution_count": 21,
   "metadata": {
    "collapsed": true
   },
   "outputs": [],
   "source": [
    "confidence = predictions[:, :, 0]"
   ]
  },
  {
   "cell_type": "code",
   "execution_count": 22,
   "metadata": {
    "collapsed": true
   },
   "outputs": [],
   "source": [
    "def draw_stats(all_stats, labels, title, y_label):\n",
    "    ''' Draw accuracy/iterations plot '''\n",
    "    colors = ['r', 'g', 'b', 'plum']\n",
    "    plt.title(title)\n",
    "    for i, current in enumerate(all_stats):\n",
    "        smoothed_current = []\n",
    "        for j in range(10, len(current) - 10):\n",
    "            smoothed_current.append(np.mean(current[j-10:j+10]))\n",
    "        plt.plot(smoothed_current, label=labels[i], c=colors[i])\n",
    "    plt.xlabel('iteration')\n",
    "    plt.ylabel(y_label)\n",
    "    plt.legend()\n",
    "    plt.show()\n",
    "\n"
   ]
  },
  {
   "cell_type": "code",
   "execution_count": 23,
   "metadata": {},
   "outputs": [
    {
     "data": {
      "image/png": "[encoded data removed]",
      "text/plain": [
       "<Figure size 921.6x633.6 with 1 Axes>"
      ]
     },
     "metadata": {},
     "output_type": "display_data"
    }
   ],
   "source": [
    "draw_stats([test_ppl.get_variable('loss_history'), train_ppl.get_variable('loss_history')], 'eff', 'ef', ['e', 'train'])"
   ]
  },
  {
   "cell_type": "code",
   "execution_count": 24,
   "metadata": {},
   "outputs": [
    {
     "ename": "KeyError",
     "evalue": "\"Variable 'loss' does not exists\"",
     "output_type": "error",
     "traceback": [
      "\u001b[1;31m---------------------------------------------------------------------------\u001b[0m",
      "\u001b[1;31mKeyError\u001b[0m                                  Traceback (most recent call last)",
      "\u001b[1;32m<ipython-input-24-e0848592dc61>\u001b[0m in \u001b[0;36m<module>\u001b[1;34m()\u001b[0m\n\u001b[1;32m----> 1\u001b[1;33m \u001b[0mnp\u001b[0m\u001b[1;33m.\u001b[0m\u001b[0marray\u001b[0m\u001b[1;33m(\u001b[0m\u001b[0mtest_ppl\u001b[0m\u001b[1;33m.\u001b[0m\u001b[0mget_variable\u001b[0m\u001b[1;33m(\u001b[0m\u001b[1;34m'loss'\u001b[0m\u001b[1;33m)\u001b[0m\u001b[1;33m)\u001b[0m\u001b[1;33m.\u001b[0m\u001b[0mshape\u001b[0m\u001b[1;33m\u001b[0m\u001b[0m\n\u001b[0m",
      "\u001b[1;32mC:\\Users\\Dari\\Documents\\meters\\meters\\dataset\\dataset\\pipeline.py\u001b[0m in \u001b[0;36mget_variable\u001b[1;34m(self, name, create, *args, **kwargs)\u001b[0m\n\u001b[0;32m    275\u001b[0m         \u001b[0;31m`\u001b[0m\u001b[0mKeyError\u001b[0m\u001b[0;31m`\u001b[0m \u001b[1;32mif\u001b[0m \u001b[0ma\u001b[0m \u001b[0mvariable\u001b[0m \u001b[0mdoes\u001b[0m \u001b[1;32mnot\u001b[0m \u001b[0mexist\u001b[0m\u001b[1;33m\u001b[0m\u001b[0m\n\u001b[0;32m    276\u001b[0m         \"\"\"\n\u001b[1;32m--> 277\u001b[1;33m         \u001b[1;32mreturn\u001b[0m \u001b[0mself\u001b[0m\u001b[1;33m.\u001b[0m\u001b[0mvariables\u001b[0m\u001b[1;33m.\u001b[0m\u001b[0mget\u001b[0m\u001b[1;33m(\u001b[0m\u001b[0mname\u001b[0m\u001b[1;33m,\u001b[0m \u001b[1;33m*\u001b[0m\u001b[0margs\u001b[0m\u001b[1;33m,\u001b[0m \u001b[0mcreate\u001b[0m\u001b[1;33m=\u001b[0m\u001b[0mcreate\u001b[0m\u001b[1;33m,\u001b[0m \u001b[0mpipeline\u001b[0m\u001b[1;33m=\u001b[0m\u001b[0mself\u001b[0m\u001b[1;33m,\u001b[0m \u001b[1;33m**\u001b[0m\u001b[0mkwargs\u001b[0m\u001b[1;33m)\u001b[0m\u001b[1;33m\u001b[0m\u001b[0m\n\u001b[0m\u001b[0;32m    278\u001b[0m \u001b[1;33m\u001b[0m\u001b[0m\n\u001b[0;32m    279\u001b[0m     \u001b[1;32mdef\u001b[0m \u001b[0minit_variable\u001b[0m\u001b[1;33m(\u001b[0m\u001b[0mself\u001b[0m\u001b[1;33m,\u001b[0m \u001b[0mname\u001b[0m\u001b[1;33m,\u001b[0m \u001b[0mdefault\u001b[0m\u001b[1;33m=\u001b[0m\u001b[1;32mNone\u001b[0m\u001b[1;33m,\u001b[0m \u001b[0minit_on_each_run\u001b[0m\u001b[1;33m=\u001b[0m\u001b[1;32mFalse\u001b[0m\u001b[1;33m,\u001b[0m \u001b[0mlock\u001b[0m\u001b[1;33m=\u001b[0m\u001b[1;32mTrue\u001b[0m\u001b[1;33m)\u001b[0m\u001b[1;33m:\u001b[0m\u001b[1;33m\u001b[0m\u001b[0m\n",
      "\u001b[1;32mC:\\Users\\Dari\\Documents\\meters\\meters\\dataset\\dataset\\variables.py\u001b[0m in \u001b[0;36mget\u001b[1;34m(self, name, create, pipeline, *args, **kwargs)\u001b[0m\n\u001b[0;32m    145\u001b[0m                 \u001b[0mself\u001b[0m\u001b[1;33m.\u001b[0m\u001b[0mvariable\u001b[0m\u001b[1;33m.\u001b[0m\u001b[0mcreate\u001b[0m\u001b[1;33m(\u001b[0m\u001b[0mname\u001b[0m\u001b[1;33m,\u001b[0m \u001b[1;33m*\u001b[0m\u001b[0margs\u001b[0m\u001b[1;33m,\u001b[0m \u001b[0mpipeline\u001b[0m\u001b[1;33m=\u001b[0m\u001b[0mpipeline\u001b[0m\u001b[1;33m,\u001b[0m \u001b[1;33m**\u001b[0m\u001b[0mkwargs\u001b[0m\u001b[1;33m)\u001b[0m\u001b[1;33m\u001b[0m\u001b[0m\n\u001b[0;32m    146\u001b[0m             \u001b[1;32melse\u001b[0m\u001b[1;33m:\u001b[0m\u001b[1;33m\u001b[0m\u001b[0m\n\u001b[1;32m--> 147\u001b[1;33m                 \u001b[1;32mraise\u001b[0m \u001b[0mKeyError\u001b[0m\u001b[1;33m(\u001b[0m\u001b[1;34m\"Variable '%s' does not exists\"\u001b[0m \u001b[1;33m%\u001b[0m \u001b[0mname\u001b[0m\u001b[1;33m)\u001b[0m\u001b[1;33m\u001b[0m\u001b[0m\n\u001b[0m\u001b[0;32m    148\u001b[0m         \u001b[0mvar\u001b[0m \u001b[1;33m=\u001b[0m \u001b[0mself\u001b[0m\u001b[1;33m.\u001b[0m\u001b[0mvariables\u001b[0m\u001b[1;33m[\u001b[0m\u001b[0mname\u001b[0m\u001b[1;33m]\u001b[0m\u001b[1;33m.\u001b[0m\u001b[0mget\u001b[0m\u001b[1;33m(\u001b[0m\u001b[1;33m)\u001b[0m\u001b[1;33m\u001b[0m\u001b[0m\n\u001b[0;32m    149\u001b[0m         \u001b[1;32mreturn\u001b[0m \u001b[0mvar\u001b[0m\u001b[1;33m\u001b[0m\u001b[0m\n",
      "\u001b[1;31mKeyError\u001b[0m: \"Variable 'loss' does not exists\""
     ]
    }
   ],
   "source": [
    "np.array(test_ppl.get_variable('loss')).shape"
   ]
  },
  {
   "cell_type": "code",
   "execution_count": null,
   "metadata": {
    "collapsed": true
   },
   "outputs": [],
   "source": [
    "bboxes"
   ]
  },
  {
   "cell_type": "code",
   "execution_count": null,
   "metadata": {
    "collapsed": true
   },
   "outputs": [],
   "source": [
    "def unnorm(data):\n",
    "    data = data.reshape((-1, 4))\n",
    "    data[:, 0] *= NEW_SIZE[0]\n",
    "    data[:, 2] *= NEW_SIZE[0]\n",
    "    data[:, 1] *= NEW_SIZE[1]\n",
    "    data[:, 3] *= NEW_SIZE[1]\n",
    "    return data\n",
    "\n",
    "def plot_results(btch, at_once=True):\n",
    "    index = np.random.randint(btch.data.images.shape[0])\n",
    "    img = btch.data.new_images[index]\n",
    "#     predictions = btch.data.predicted_bb[index].reshape((-1, 5))\n",
    "    coords = (predictions[index, :, :4])\n",
    "    print(coords.shape)\n",
    "    real = unnorm(btch.data.coordinates[index])\n",
    "    pred_conf = confidence[index, :]\n",
    "    if at_once:\n",
    "        fig,ax = plt.subplots(1)\n",
    "    for i in range(8):\n",
    "        if not at_once:\n",
    "            print('pred confidence: ', pred_conf[i], 'real conf: ', btch.data.confidence[index, i, 0])\n",
    "            fig,ax = plt.subplots(1)\n",
    "            ax.imshow(img)\n",
    "            plt.show()\n",
    "        print(coords[i, :])\n",
    "        y, x, height, width = coords[i , :]\n",
    "        pred_rect = patches.Rectangle((x, y), width, height, linewidth=3, edgecolor='r', facecolor='none')\n",
    "        ax.add_patch(pred_rect)\n",
    "\n",
    "        y, x, height, width = real[i]\n",
    "        true_rect = patches.Rectangle((x, y), width, height, linewidth=3, edgecolor='g', facecolor='none')\n",
    "#         ax.add_patch(true_rect)\n",
    "        \n",
    "\n",
    "    if at_once:\n",
    "        ax.imshow(img)\n",
    "        plt.show()\n",
    "        print('pred confidence: ', pred_conf, 'real conf: ', btch.data.confidence[index, :, 0])\n",
    "\n",
    "\n",
    "    "
   ]
  },
  {
   "cell_type": "code",
   "execution_count": null,
   "metadata": {
    "collapsed": true,
    "scrolled": false
   },
   "outputs": [],
   "source": [
    "plot_results(te)"
   ]
  },
  {
   "cell_type": "code",
   "execution_count": null,
   "metadata": {
    "collapsed": true
   },
   "outputs": [],
   "source": []
  }
 ],
 "metadata": {
  "kernelspec": {
   "display_name": "Python 3",
   "language": "python",
   "name": "python3"
  },
  "language_info": {
   "codemirror_mode": {
    "name": "ipython",
    "version": 3
   },
   "file_extension": ".py",
   "mimetype": "text/x-python",
   "name": "python",
   "nbconvert_exporter": "python",
   "pygments_lexer": "ipython3",
   "version": "3.6.1"
  }
 },
 "nbformat": 4,
 "nbformat_minor": 2
}
